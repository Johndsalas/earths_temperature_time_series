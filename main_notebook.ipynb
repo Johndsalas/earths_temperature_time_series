{
 "cells": [
  {
   "cell_type": "markdown",
   "metadata": {},
   "source": [
    "# Project Inquiries:\n",
    "\n",
    "1) Is the Earth’s temperature rising over time?\n",
    "\n",
    "2) Does Earth’s temperature fluctuate in a predictable pattern?\n",
    "\n",
    "3) Can we use readings of past Earth temperatures to predict future Earth temperatures?\n",
    "\n",
    "4) Does taking the average temperature over land very in pattern, predictability, or variability from temperature taken over land and ocean?"
   ]
  },
  {
   "cell_type": "code",
   "execution_count": 1,
   "metadata": {},
   "outputs": [],
   "source": [
    "# imports\n",
    "import pandas as pd\n",
    "import numpy as np\n",
    "\n",
    "import seaborn as sns\n",
    "import matplotlib.pyplot as plt\n",
    "%matplotlib inline\n",
    "\n",
    "from math import sqrt\n",
    "from sklearn.metrics import mean_squared_error\n",
    "\n",
    "import statsmodels.api as sm\n",
    "from statsmodels.tsa.api import Holt, ExponentialSmoothing\n",
    "\n",
    "import wrangle\n",
    "\n",
    "# import fbprophet\n",
    "\n",
    "import warnings\n",
    "warnings.filterwarnings(\"ignore\")"
   ]
  },
  {
   "cell_type": "markdown",
   "metadata": {},
   "source": [
    "# Acquire"
   ]
  },
  {
   "cell_type": "code",
   "execution_count": 2,
   "metadata": {
    "scrolled": true
   },
   "outputs": [
    {
     "data": {
      "text/html": [
       "<div>\n",
       "<style scoped>\n",
       "    .dataframe tbody tr th:only-of-type {\n",
       "        vertical-align: middle;\n",
       "    }\n",
       "\n",
       "    .dataframe tbody tr th {\n",
       "        vertical-align: top;\n",
       "    }\n",
       "\n",
       "    .dataframe thead th {\n",
       "        text-align: right;\n",
       "    }\n",
       "</style>\n",
       "<table border=\"1\" class=\"dataframe\">\n",
       "  <thead>\n",
       "    <tr style=\"text-align: right;\">\n",
       "      <th></th>\n",
       "      <th>dt</th>\n",
       "      <th>LandAverageTemperature</th>\n",
       "      <th>LandAverageTemperatureUncertainty</th>\n",
       "      <th>LandMaxTemperature</th>\n",
       "      <th>LandMaxTemperatureUncertainty</th>\n",
       "      <th>LandMinTemperature</th>\n",
       "      <th>LandMinTemperatureUncertainty</th>\n",
       "      <th>LandAndOceanAverageTemperature</th>\n",
       "      <th>LandAndOceanAverageTemperatureUncertainty</th>\n",
       "    </tr>\n",
       "  </thead>\n",
       "  <tbody>\n",
       "    <tr>\n",
       "      <th>0</th>\n",
       "      <td>1750-01-01</td>\n",
       "      <td>3.034</td>\n",
       "      <td>3.574</td>\n",
       "      <td>NaN</td>\n",
       "      <td>NaN</td>\n",
       "      <td>NaN</td>\n",
       "      <td>NaN</td>\n",
       "      <td>NaN</td>\n",
       "      <td>NaN</td>\n",
       "    </tr>\n",
       "    <tr>\n",
       "      <th>1</th>\n",
       "      <td>1750-02-01</td>\n",
       "      <td>3.083</td>\n",
       "      <td>3.702</td>\n",
       "      <td>NaN</td>\n",
       "      <td>NaN</td>\n",
       "      <td>NaN</td>\n",
       "      <td>NaN</td>\n",
       "      <td>NaN</td>\n",
       "      <td>NaN</td>\n",
       "    </tr>\n",
       "    <tr>\n",
       "      <th>2</th>\n",
       "      <td>1750-03-01</td>\n",
       "      <td>5.626</td>\n",
       "      <td>3.076</td>\n",
       "      <td>NaN</td>\n",
       "      <td>NaN</td>\n",
       "      <td>NaN</td>\n",
       "      <td>NaN</td>\n",
       "      <td>NaN</td>\n",
       "      <td>NaN</td>\n",
       "    </tr>\n",
       "    <tr>\n",
       "      <th>3</th>\n",
       "      <td>1750-04-01</td>\n",
       "      <td>8.490</td>\n",
       "      <td>2.451</td>\n",
       "      <td>NaN</td>\n",
       "      <td>NaN</td>\n",
       "      <td>NaN</td>\n",
       "      <td>NaN</td>\n",
       "      <td>NaN</td>\n",
       "      <td>NaN</td>\n",
       "    </tr>\n",
       "    <tr>\n",
       "      <th>4</th>\n",
       "      <td>1750-05-01</td>\n",
       "      <td>11.573</td>\n",
       "      <td>2.072</td>\n",
       "      <td>NaN</td>\n",
       "      <td>NaN</td>\n",
       "      <td>NaN</td>\n",
       "      <td>NaN</td>\n",
       "      <td>NaN</td>\n",
       "      <td>NaN</td>\n",
       "    </tr>\n",
       "  </tbody>\n",
       "</table>\n",
       "</div>"
      ],
      "text/plain": [
       "           dt  LandAverageTemperature  LandAverageTemperatureUncertainty  \\\n",
       "0  1750-01-01                   3.034                              3.574   \n",
       "1  1750-02-01                   3.083                              3.702   \n",
       "2  1750-03-01                   5.626                              3.076   \n",
       "3  1750-04-01                   8.490                              2.451   \n",
       "4  1750-05-01                  11.573                              2.072   \n",
       "\n",
       "   LandMaxTemperature  LandMaxTemperatureUncertainty  LandMinTemperature  \\\n",
       "0                 NaN                            NaN                 NaN   \n",
       "1                 NaN                            NaN                 NaN   \n",
       "2                 NaN                            NaN                 NaN   \n",
       "3                 NaN                            NaN                 NaN   \n",
       "4                 NaN                            NaN                 NaN   \n",
       "\n",
       "   LandMinTemperatureUncertainty  LandAndOceanAverageTemperature  \\\n",
       "0                            NaN                             NaN   \n",
       "1                            NaN                             NaN   \n",
       "2                            NaN                             NaN   \n",
       "3                            NaN                             NaN   \n",
       "4                            NaN                             NaN   \n",
       "\n",
       "   LandAndOceanAverageTemperatureUncertainty  \n",
       "0                                        NaN  \n",
       "1                                        NaN  \n",
       "2                                        NaN  \n",
       "3                                        NaN  \n",
       "4                                        NaN  "
      ]
     },
     "execution_count": 2,
     "metadata": {},
     "output_type": "execute_result"
    }
   ],
   "source": [
    "df = pd.read_csv('GlobalTemperatures.csv')\n",
    "df.head()"
   ]
  },
  {
   "cell_type": "markdown",
   "metadata": {},
   "source": [
    "# Prepare"
   ]
  },
  {
   "cell_type": "code",
   "execution_count": 3,
   "metadata": {},
   "outputs": [],
   "source": [
    "df_land, df_ocean = wrangle.pre_split_prep()"
   ]
  },
  {
   "cell_type": "markdown",
   "metadata": {},
   "source": [
    "### Split into train using ~80% train, ~13% validate, and ~7% test, seperating data at the end of the nearest year"
   ]
  },
  {
   "cell_type": "code",
   "execution_count": 4,
   "metadata": {},
   "outputs": [],
   "source": [
    "train_land, validate_land, test_land, train_ocean, validate_ocean, test_ocean = wrangle.tvt_split(df_land, df_ocean)"
   ]
  },
  {
   "cell_type": "code",
   "execution_count": 7,
   "metadata": {},
   "outputs": [
    {
     "data": {
      "text/plain": [
       "[<matplotlib.lines.Line2D at 0x7fc38f2249d0>]"
      ]
     },
     "execution_count": 7,
     "metadata": {},
     "output_type": "execute_result"
    },
    {
     "data": {
      "image/png": "[encoded data removed]",
      "text/plain": [
       "<Figure size 432x288 with 1 Axes>"
      ]
     },
     "metadata": {
      "needs_background": "light"
     },
     "output_type": "display_data"
    }
   ],
   "source": [
    "\n",
    "plt.title(\"Average Land Temperature Train, Validate, and Test Data\")\n",
    "plt.plot(train_land.index, train_land.LandAverageTemperature)\n",
    "plt.plot(validate_land.index, validate_land.LandAverageTemperature)\n",
    "plt.plot(test_land.index, test_land.LandAverageTemperature)\n",
    "plt.show()"
   ]
  },
  {
   "cell_type": "code",
   "execution_count": 8,
   "metadata": {},
   "outputs": [
    {
     "ename": "NameError",
     "evalue": "name 'df_lo' is not defined",
     "output_type": "error",
     "traceback": [
      "\u001b[0;31m---------------------------------------------------------------------------\u001b[0m",
      "\u001b[0;31mNameError\u001b[0m                                 Traceback (most recent call last)",
      "\u001b[0;32m<ipython-input-8-5252682dd1a0>\u001b[0m in \u001b[0;36m<module>\u001b[0;34m\u001b[0m\n\u001b[0;32m----> 1\u001b[0;31m \u001b[0mtrain_ocean\u001b[0m \u001b[0;34m=\u001b[0m \u001b[0mdf_lo\u001b[0m\u001b[0;34m[\u001b[0m\u001b[0;34m:\u001b[0m\u001b[0;34m'1982-12-01'\u001b[0m\u001b[0;34m]\u001b[0m\u001b[0;34m\u001b[0m\u001b[0;34m\u001b[0m\u001b[0m\n\u001b[0m\u001b[1;32m      2\u001b[0m \u001b[0mvalidate_ocean\u001b[0m \u001b[0;34m=\u001b[0m \u001b[0mdf_lo\u001b[0m\u001b[0;34m[\u001b[0m\u001b[0;34m'1983-01-01'\u001b[0m\u001b[0;34m:\u001b[0m\u001b[0;34m'2004-12-01'\u001b[0m\u001b[0;34m]\u001b[0m\u001b[0;34m\u001b[0m\u001b[0;34m\u001b[0m\u001b[0m\n\u001b[1;32m      3\u001b[0m \u001b[0mtest_ocean\u001b[0m \u001b[0;34m=\u001b[0m \u001b[0mdf_lo\u001b[0m\u001b[0;34m[\u001b[0m\u001b[0;34m'2005-01-01'\u001b[0m\u001b[0;34m:\u001b[0m\u001b[0;34m]\u001b[0m\u001b[0;34m\u001b[0m\u001b[0;34m\u001b[0m\u001b[0m\n\u001b[1;32m      4\u001b[0m \u001b[0;34m\u001b[0m\u001b[0m\n\u001b[1;32m      5\u001b[0m \u001b[0mplt\u001b[0m\u001b[0;34m.\u001b[0m\u001b[0mtitle\u001b[0m\u001b[0;34m(\u001b[0m\u001b[0;34m\"Average Land and Ocean Temperature Train, Validate, and Test Data\"\u001b[0m\u001b[0;34m)\u001b[0m\u001b[0;34m\u001b[0m\u001b[0;34m\u001b[0m\u001b[0m\n",
      "\u001b[0;31mNameError\u001b[0m: name 'df_lo' is not defined"
     ]
    }
   ],
   "source": [
    "\n",
    "\n",
    "plt.title(\"Average Land and Ocean Temperature Train, Validate, and Test Data\")\n",
    "plt.plot(train_ocean.index, train_ocean.LandAndOceanAverageTemperature)\n",
    "plt.plot(validate_ocean.index, validate_ocean.LandAndOceanAverageTemperature)\n",
    "plt.plot(test_ocean.index, test_ocean.LandAndOceanAverageTemperature)"
   ]
  },
  {
   "cell_type": "markdown",
   "metadata": {},
   "source": [
    "# Explore\n",
    "\n",
    "View each temperature line next to the other, resample using the average temperature by year, and by decade."
   ]
  },
  {
   "cell_type": "code",
   "execution_count": null,
   "metadata": {},
   "outputs": [],
   "source": [
    "train_land.describe()"
   ]
  },
  {
   "cell_type": "code",
   "execution_count": null,
   "metadata": {},
   "outputs": [],
   "source": [
    "train_ocean.describe()"
   ]
  },
  {
   "cell_type": "code",
   "execution_count": null,
   "metadata": {},
   "outputs": [],
   "source": [
    "plt.title(\"Average Temperature by Month\")\n",
    "plt.plot(train_land)\n",
    "plt.plot(train_ocean)\n",
    "plt.show"
   ]
  },
  {
   "cell_type": "code",
   "execution_count": null,
   "metadata": {},
   "outputs": [],
   "source": [
    "plt.title(\"Average Temperature by Year\")\n",
    "plt.plot(train_land.resample('y').mean())\n",
    "plt.plot(train_ocean.resample('y').mean())\n",
    "plt.show"
   ]
  },
  {
   "cell_type": "code",
   "execution_count": null,
   "metadata": {},
   "outputs": [],
   "source": [
    "plt.title(\"Average Temperature by Decade\")\n",
    "plt.plot(train_land.resample('10y').mean())\n",
    "plt.plot(train_ocean.resample('10y').mean())\n",
    "plt.show"
   ]
  },
  {
   "cell_type": "code",
   "execution_count": null,
   "metadata": {},
   "outputs": [],
   "source": [
    "col = 'LandAverageTemperature'\n",
    "\n",
    "print(col,'\\n')\n",
    "_ = sm.tsa.seasonal_decompose(train_land[col].resample('M').mean()).plot()\n",
    "plt.show()"
   ]
  },
  {
   "cell_type": "code",
   "execution_count": null,
   "metadata": {},
   "outputs": [],
   "source": [
    "col = 'LandAndOceanAverageTemperature'\n",
    "\n",
    "print(col,'\\n')\n",
    "_ = sm.tsa.seasonal_decompose(train_ocean[col].resample('M').mean()).plot()\n",
    "plt.show()"
   ]
  },
  {
   "cell_type": "markdown",
   "metadata": {},
   "source": [
    "Observation 1: Changes in temperature are irregular.\n",
    "\n",
    "Observation 2: land and ocean temperature has a slight upward trend overall, and very little variance.\n",
    "\n",
    "Observation 3: Land only temperature shows significant variance untill after 1840 where there begins a slight upward trend. It is possibel the technological advancements lessoning measurement error can account for this trend."
   ]
  },
  {
   "cell_type": "markdown",
   "metadata": {},
   "source": [
    "# Modeling"
   ]
  },
  {
   "cell_type": "code",
   "execution_count": null,
   "metadata": {},
   "outputs": [],
   "source": [
    "# evaluation function to compute rmse\n",
    "\n",
    "def evaluate_land(target_var):\n",
    "    rmse = round(sqrt(mean_squared_error(validate_land[target_var], yhat_land_df[target_var])), 4)\n",
    "    return rmse\n"
   ]
  },
  {
   "cell_type": "code",
   "execution_count": null,
   "metadata": {},
   "outputs": [],
   "source": [
    "# evaluation function to compute rmse\n",
    "\n",
    "def evaluate_ocean(target_var):\n",
    "    rmse = round(sqrt(mean_squared_error(validate_ocean[target_var], yhat_ocean_df[target_var])), 4)\n",
    "    return rmse"
   ]
  },
  {
   "cell_type": "code",
   "execution_count": null,
   "metadata": {},
   "outputs": [],
   "source": [
    "# plot and evaluate \n",
    "def plot_and_eval_land(target_var):\n",
    "    plt.figure(figsize = (12,4))\n",
    "    plt.plot(train_land[target_var], label = 'Train', linewidth = 1)\n",
    "    plt.plot(validate_land[target_var], label = 'Validate', linewidth = 1)\n",
    "    plt.plot(yhat_land_df[target_var])\n",
    "    plt.title(target_var)\n",
    "    rmse = evaluate_land(target_var)\n",
    "    print(target_var, f'-- RMSE: {rmse}')\n",
    "    plt.show()"
   ]
  },
  {
   "cell_type": "code",
   "execution_count": null,
   "metadata": {},
   "outputs": [],
   "source": [
    "# plot and evaluate \n",
    "def plot_and_eval_ocean(target_var):\n",
    "    plt.figure(figsize = (12,4))\n",
    "    plt.plot(train_ocean[target_var], label = 'Train', linewidth = 1)\n",
    "    plt.plot(validate_ocean[target_var], label = 'Validate', linewidth = 1)\n",
    "    plt.plot(yhat_ocean_df[target_var])\n",
    "    plt.title(target_var)\n",
    "    rmse = evaluate_ocean(target_var)\n",
    "    print(target_var, f'-- RMSE: {rmse}')\n",
    "    plt.show()\n"
   ]
  },
  {
   "cell_type": "code",
   "execution_count": null,
   "metadata": {},
   "outputs": [],
   "source": [
    "# Create the empty dataframe\n",
    "eval_df_land = pd.DataFrame(columns=['model_type', 'target_var', 'rmse'])\n",
    "\n",
    "# function to store rmse for comparison purposes\n",
    "def append_eval_df_land(model_type, target_var):\n",
    "    rmse = evaluate_land(target_var)\n",
    "    d = {'model_type': [model_type], 'target_var': [target_var], 'rmse': [rmse]}\n",
    "    d = pd.DataFrame(d)\n",
    "    return eval_df_land.append(d, ignore_index = True)"
   ]
  },
  {
   "cell_type": "code",
   "execution_count": null,
   "metadata": {},
   "outputs": [],
   "source": [
    "# Create the empty dataframe\n",
    "eval_df_ocean = pd.DataFrame(columns=['model_type', 'target_var', 'rmse'])\n",
    "\n",
    "# function to store rmse for comparison purposes\n",
    "def append_eval_df_ocean(model_type, target_var):\n",
    "    rmse = evaluate_ocean(target_var)\n",
    "    d = {'model_type': [model_type], 'target_var': [target_var], 'rmse': [rmse]}\n",
    "    d = pd.DataFrame(d)\n",
    "    return eval_df_ocean.append(d, ignore_index = True)"
   ]
  },
  {
   "cell_type": "markdown",
   "metadata": {},
   "source": [
    "### Make predictions using last observed value"
   ]
  },
  {
   "cell_type": "code",
   "execution_count": null,
   "metadata": {},
   "outputs": [],
   "source": [
    "temps = train_land['LandAverageTemperature'][-1:][0]\n",
    "\n",
    "yhat_land_df = pd.DataFrame({'LandAverageTemperature': [temps]}, index = validate_land.index)\n",
    "\n",
    "yhat_land_df.head(2)"
   ]
  },
  {
   "cell_type": "code",
   "execution_count": null,
   "metadata": {},
   "outputs": [],
   "source": [
    "plot_and_eval_land('LandAverageTemperature')"
   ]
  },
  {
   "cell_type": "code",
   "execution_count": null,
   "metadata": {},
   "outputs": [],
   "source": [
    "eval_df_land = append_eval_df_land('Last Observed Value', 'LandAverageTemperature')\n",
    "eval_df_land"
   ]
  },
  {
   "cell_type": "code",
   "execution_count": null,
   "metadata": {},
   "outputs": [],
   "source": [
    "temps = train_ocean['LandAndOceanAverageTemperature'][-1:][0]\n",
    "\n",
    "yhat_ocean_df = pd.DataFrame({'LandAndOceanAverageTemperature': [temps]}, index = validate_ocean.index)\n",
    "\n",
    "yhat_ocean_df.head(2)"
   ]
  },
  {
   "cell_type": "code",
   "execution_count": null,
   "metadata": {},
   "outputs": [],
   "source": [
    "plot_and_eval_ocean('LandAndOceanAverageTemperature')"
   ]
  },
  {
   "cell_type": "code",
   "execution_count": null,
   "metadata": {},
   "outputs": [],
   "source": [
    "eval_df_ocean = append_eval_df_ocean(\"Last Observed Value\", 'LandAndOceanAverageTemperature')\n",
    "eval_df_ocean"
   ]
  },
  {
   "cell_type": "markdown",
   "metadata": {},
   "source": [
    "### Make predictions using simple average"
   ]
  },
  {
   "cell_type": "code",
   "execution_count": null,
   "metadata": {},
   "outputs": [],
   "source": [
    "temps = round(train_land['LandAverageTemperature'].mean(),2)\n",
    "\n",
    "yhat_land_df = pd.DataFrame({'LandAverageTemperature': [temps]}, index = validate_land.index)\n",
    "\n",
    "yhat_land_df.head(2)"
   ]
  },
  {
   "cell_type": "code",
   "execution_count": null,
   "metadata": {},
   "outputs": [],
   "source": [
    "plot_and_eval_land('LandAverageTemperature')"
   ]
  },
  {
   "cell_type": "code",
   "execution_count": null,
   "metadata": {},
   "outputs": [],
   "source": [
    "eval_df_land = append_eval_df_land('Simple Average', 'LandAverageTemperature')\n",
    "eval_df_land"
   ]
  },
  {
   "cell_type": "code",
   "execution_count": null,
   "metadata": {},
   "outputs": [],
   "source": [
    "temps = round(train_ocean['LandAndOceanAverageTemperature'].mean(),2)\n",
    "\n",
    "yhat_ocean_df = pd.DataFrame({'LandAndOceanAverageTemperature': [temps]}, index = validate_ocean.index)\n",
    "\n",
    "yhat_ocean_df.head(2)"
   ]
  },
  {
   "cell_type": "code",
   "execution_count": null,
   "metadata": {},
   "outputs": [],
   "source": [
    "plot_and_eval_ocean('LandAndOceanAverageTemperature')"
   ]
  },
  {
   "cell_type": "code",
   "execution_count": null,
   "metadata": {},
   "outputs": [],
   "source": [
    "eval_df_ocean = append_eval_df_ocean('Simple Average', 'LandAndOceanAverageTemperature')\n",
    "eval_df_ocean"
   ]
  },
  {
   "cell_type": "markdown",
   "metadata": {},
   "source": [
    "### Make predictions based on moving average for month, year, and decade."
   ]
  },
  {
   "cell_type": "code",
   "execution_count": null,
   "metadata": {},
   "outputs": [],
   "source": [
    "for period in [1,12,120]:\n",
    "\n",
    "    temps = round(train_land['LandAverageTemperature'].rolling(period).mean().iloc[-1],2)\n",
    "\n",
    "    yhat_land_df = pd.DataFrame({'LandAverageTemperature': [temps]}, index = validate_land.index)\n",
    "    \n",
    "    print(plot_and_eval_land('LandAverageTemperature'))\n",
    "    \n",
    "    eval_df_land = append_eval_df_land(f'{period}Month Moving Average', 'LandAverageTemperature')"
   ]
  },
  {
   "cell_type": "code",
   "execution_count": null,
   "metadata": {},
   "outputs": [],
   "source": [
    "eval_df_land"
   ]
  },
  {
   "cell_type": "code",
   "execution_count": null,
   "metadata": {},
   "outputs": [],
   "source": [
    "for period in [1,12,120]:\n",
    "\n",
    "    temps = round(train_ocean['LandAndOceanAverageTemperature'].rolling(period).mean().iloc[-1],2)\n",
    "\n",
    "    yhat_ocean_df = pd.DataFrame({'LandAndOceanAverageTemperature': [temps]}, index = validate_ocean.index)\n",
    "    \n",
    "    print(plot_and_eval_ocean('LandAndOceanAverageTemperature'))\n",
    "    \n",
    "    eval_df_ocean = append_eval_df_ocean(f'{period}Month Moving Average', 'LandAndOceanAverageTemperature')"
   ]
  },
  {
   "cell_type": "code",
   "execution_count": null,
   "metadata": {},
   "outputs": [],
   "source": [
    "eval_df_ocean"
   ]
  },
  {
   "cell_type": "markdown",
   "metadata": {},
   "source": [
    "### Make predictions using Holt's Linear Trend"
   ]
  },
  {
   "cell_type": "code",
   "execution_count": null,
   "metadata": {
    "scrolled": true
   },
   "outputs": [],
   "source": [
    "model = Holt(train_land['LandAverageTemperature'], exponential = False)\n",
    "model = model.fit(smoothing_level = .1, \n",
    "                  smoothing_slope = .1, \n",
    "                  optimized = False)\n",
    "yhat_items = model.predict(start = validate_land.index[0], \n",
    "                           end = validate_land.index[-1])\n",
    "yhat_land_df['LandAverageTemperature'] = round(yhat_items, 2)"
   ]
  },
  {
   "cell_type": "code",
   "execution_count": null,
   "metadata": {},
   "outputs": [],
   "source": [
    "plot_and_eval_land('LandAverageTemperature')"
   ]
  },
  {
   "cell_type": "code",
   "execution_count": null,
   "metadata": {},
   "outputs": [],
   "source": [
    "model = Holt(train_ocean['LandAndOceanAverageTemperature'], exponential = False)\n",
    "model = model.fit(smoothing_level = .1, \n",
    "                  smoothing_slope = .1, \n",
    "                  optimized = False)\n",
    "yhat_items = model.predict(start = validate_ocean.index[0], \n",
    "                           end = validate_ocean.index[-1])\n",
    "yhat_ocean_df['LandAndOceanAverageTemperature'] = round(yhat_items, 2)"
   ]
  },
  {
   "cell_type": "code",
   "execution_count": null,
   "metadata": {},
   "outputs": [],
   "source": [
    "plot_and_eval_ocean('LandAndOceanAverageTemperature')"
   ]
  },
  {
   "cell_type": "markdown",
   "metadata": {},
   "source": [
    "### Make Predictions using previous cycle"
   ]
  },
  {
   "cell_type": "code",
   "execution_count": null,
   "metadata": {},
   "outputs": [],
   "source": [
    "train_land = df_land[:'1996'].copy()\n",
    "train_cycle_land = df_land['1996'].copy()\n",
    "validate_land = df_land['1997'].copy()"
   ]
  },
  {
   "cell_type": "code",
   "execution_count": null,
   "metadata": {},
   "outputs": [],
   "source": [
    "yhat_land_df = train_cycle_land + train_land.diff(365).mean()"
   ]
  },
  {
   "cell_type": "code",
   "execution_count": null,
   "metadata": {},
   "outputs": [],
   "source": [
    "yhat_land_df.index = validate_land.index"
   ]
  },
  {
   "cell_type": "code",
   "execution_count": null,
   "metadata": {},
   "outputs": [],
   "source": [
    "plot_and_eval_land('LandAverageTemperature')\n",
    "eval_df_land = append_eval_df_land('Previous Cycle', 'LandAverageTemperature')"
   ]
  },
  {
   "cell_type": "code",
   "execution_count": null,
   "metadata": {
    "scrolled": true
   },
   "outputs": [],
   "source": [
    "train_ocean = df_lo[:'2003']\n",
    "train_ocean_cycle = df_lo['2003']\n",
    "validate_ocean = df_lo['2004']\n",
    "\n",
    "yhat_ocean_df = train_ocean_cycle + train_ocean.diff(365).mean()\n",
    "\n",
    "yhat_ocean_df.index = validate_ocean.index\n",
    "\n",
    "plot_and_eval_ocean('LandAndOceanAverageTemperature')"
   ]
  },
  {
   "cell_type": "markdown",
   "metadata": {},
   "source": [
    "### Make predictions using the Holt-Winter method"
   ]
  },
  {
   "cell_type": "code",
   "execution_count": null,
   "metadata": {},
   "outputs": [],
   "source": [
    "train_land = df_land[:'1962-12-01'] \n",
    "validate_land = df_land['1963-01-01':'1997-12-01']\n",
    "test_land = df_land['1998-01-01':]\n",
    "\n",
    "train_ocean = df_lo[:'1982-12-01']\n",
    "validate_ocean = df_lo['1983-01-01':'2004-12-01']\n",
    "test_ocean = df_lo['2005-01-01':]"
   ]
  },
  {
   "cell_type": "code",
   "execution_count": null,
   "metadata": {},
   "outputs": [],
   "source": [
    "model = ExponentialSmoothing(np.asarray(train_land['LandAverageTemperature']) ,seasonal_periods=12 ,trend='add', seasonal='add',)\n",
    "\n",
    "model = model.fit()\n",
    "\n",
    "yhat_items = model.forecast(len(yhat_land_df))\n",
    "\n",
    "yhat_land_df['LandAverageTemperature'] = yhat_items"
   ]
  },
  {
   "cell_type": "code",
   "execution_count": null,
   "metadata": {},
   "outputs": [],
   "source": [
    "plot_and_eval_land('LandAverageTemperature')"
   ]
  },
  {
   "cell_type": "code",
   "execution_count": null,
   "metadata": {},
   "outputs": [],
   "source": [
    "model = ExponentialSmoothing(np.asarray(train_ocean['LandAndOceanAverageTemperature']) ,seasonal_periods=12 ,trend='add', seasonal='add',)\n",
    "\n",
    "model = model.fit()\n",
    "\n",
    "yhat_items = model.forecast(len(yhat_ocean_df))\n",
    "\n",
    "yhat_ocean_df['LandAndOceanAverageTemperature'] = yhat_items"
   ]
  },
  {
   "cell_type": "code",
   "execution_count": null,
   "metadata": {},
   "outputs": [],
   "source": [
    "plot_and_eval_ocean('LandAndOceanAverageTemperature')"
   ]
  },
  {
   "cell_type": "code",
   "execution_count": null,
   "metadata": {},
   "outputs": [],
   "source": []
  }
 ],
 "metadata": {
  "kernelspec": {
   "display_name": "Python 3",
   "language": "python",
   "name": "python3"
  },
  "language_info": {
   "codemirror_mode": {
    "name": "ipython",
    "version": 3
   },
   "file_extension": ".py",
   "mimetype": "text/x-python",
   "name": "python",
   "nbconvert_exporter": "python",
   "pygments_lexer": "ipython3",
   "version": "3.7.4"
  }
 },
 "nbformat": 4,
 "nbformat_minor": 4
}
